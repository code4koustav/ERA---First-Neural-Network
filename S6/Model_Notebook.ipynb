{
  "cells": [
    {
      "cell_type": "code",
      "execution_count": 1,
      "metadata": {
        "colab": {
          "base_uri": "https://localhost:8080/"
        },
        "id": "hT8sIw8STeeY",
        "outputId": "ad5a7aa8-9e0c-4ac3-ddbd-5fdf8a434b12"
      },
      "outputs": [
        {
          "name": "stdout",
          "output_type": "stream",
          "text": [
            "cpu\n"
          ]
        }
      ],
      "source": [
        "# Importing all necessery libraries\n",
        "from __future__ import print_function\n",
        "import torch\n",
        "import torch.nn as nn\n",
        "import torch.nn.functional as F\n",
        "import torch.optim as optim\n",
        "from torchvision import datasets, transforms\n",
        "\n",
        "# checking whether GPU has been intialised or not\n",
        "from torchsummary import summary\n",
        "use_cuda = torch.cuda.is_available()\n",
        "device = torch.device(\"cuda\" if use_cuda else \"cpu\")\n",
        "print(device)"
      ]
    },
    {
      "cell_type": "code",
      "execution_count": 2,
      "metadata": {
        "colab": {
          "base_uri": "https://localhost:8080/"
        },
        "id": "Z720uBd4Tu7d",
        "outputId": "65b35973-9895-443d-f5d4-01b99caee804"
      },
      "outputs": [
        {
          "name": "stdout",
          "output_type": "stream",
          "text": [
            "----------------------------------------------------------------\n",
            "        Layer (type)               Output Shape         Param #\n",
            "================================================================\n",
            "            Conv2d-1           [-1, 12, 28, 28]             120\n",
            "       BatchNorm2d-2           [-1, 12, 28, 28]              24\n",
            "         Dropout2d-3           [-1, 12, 28, 28]               0\n",
            "            Conv2d-4           [-1, 24, 28, 28]           2,616\n",
            "       BatchNorm2d-5           [-1, 24, 28, 28]              48\n",
            "         Dropout2d-6           [-1, 24, 28, 28]               0\n",
            "            Conv2d-7           [-1, 36, 28, 28]           7,812\n",
            "       BatchNorm2d-8           [-1, 36, 28, 28]              72\n",
            "         Dropout2d-9           [-1, 36, 28, 28]               0\n",
            "        MaxPool2d-10           [-1, 36, 14, 14]               0\n",
            "           Conv2d-11           [-1, 12, 14, 14]             444\n",
            "      BatchNorm2d-12           [-1, 12, 14, 14]              24\n",
            "        Dropout2d-13           [-1, 12, 14, 14]               0\n",
            "           Conv2d-14           [-1, 12, 14, 14]           1,308\n",
            "      BatchNorm2d-15           [-1, 12, 14, 14]              24\n",
            "        Dropout2d-16           [-1, 12, 14, 14]               0\n",
            "           Conv2d-17           [-1, 24, 14, 14]           2,616\n",
            "      BatchNorm2d-18           [-1, 24, 14, 14]              48\n",
            "        Dropout2d-19           [-1, 24, 14, 14]               0\n",
            "        MaxPool2d-20             [-1, 24, 7, 7]               0\n",
            "           Conv2d-21             [-1, 12, 7, 7]             300\n",
            "      BatchNorm2d-22             [-1, 12, 7, 7]              24\n",
            "        Dropout2d-23             [-1, 12, 7, 7]               0\n",
            "           Conv2d-24             [-1, 12, 7, 7]           1,308\n",
            "      BatchNorm2d-25             [-1, 12, 7, 7]              24\n",
            "        Dropout2d-26             [-1, 12, 7, 7]               0\n",
            "           Conv2d-27             [-1, 24, 7, 7]           2,616\n",
            "        AvgPool2d-28             [-1, 24, 1, 1]               0\n",
            "           Linear-29                   [-1, 10]             250\n",
            "================================================================\n",
            "Total params: 19,678\n",
            "Trainable params: 19,678\n",
            "Non-trainable params: 0\n",
            "----------------------------------------------------------------\n",
            "Input size (MB): 0.00\n",
            "Forward/backward pass size (MB): 1.61\n",
            "Params size (MB): 0.08\n",
            "Estimated Total Size (MB): 1.68\n",
            "----------------------------------------------------------------\n"
          ]
        },
        {
          "name": "stderr",
          "output_type": "stream",
          "text": [
            "<ipython-input-2-b411df3ebd3f>:69: UserWarning: Implicit dimension choice for log_softmax has been deprecated. Change the call to include dim=X as an argument.\n",
            "  return F.log_softmax(x)       #log of softmax\n"
          ]
        }
      ],
      "source": [
        "# Creating Model\n",
        "\n",
        "drop_out_val = 0.05 # seting dropout as 5 %\n",
        "\n",
        "class Net(nn.Module):\n",
        "    def __init__(self):\n",
        "        super().__init__()\n",
        "\n",
        "        # CONVOLUTION LAYER 1                     \n",
        "        self.conv1 = nn.Conv2d(in_channels=1, out_channels=12, kernel_size=(3,3), padding=1)      \n",
        "        self.bn1 = nn.BatchNorm2d(12)\n",
        "        self.do1 = nn.Dropout2d(drop_out_val)\n",
        "        \n",
        "        # CONVOLUTION LAYER 2\n",
        "        self.conv2 = nn.Conv2d(12, 24, 3, padding=1)\n",
        "        self.bn2 = nn.BatchNorm2d(24)\n",
        "        self.do2 = nn.Dropout2d(drop_out_val)\n",
        "        \n",
        "        # CONVOLUTION LAYER 3\n",
        "        self.conv3  = nn.Conv2d(24, 36, 3, padding=1)\n",
        "        self.bn3    = nn.BatchNorm2d(36)\n",
        "        self.do3    = nn.Dropout2d(drop_out_val)\n",
        "\n",
        "        # TRANSITION LAYER 1\n",
        "        self.pool1 = nn.MaxPool2d(2, 2)\n",
        "\n",
        "        self.conv_t1 = nn.Conv2d(36, 12, 1)\n",
        "        self.bn_t1 = nn.BatchNorm2d(12)\n",
        "        self.do_t1 = nn.Dropout2d(drop_out_val)\n",
        "\n",
        "        # CONVOLUTION LAYER 4\n",
        "        self.conv4 = nn.Conv2d(12, 12, 3, padding = 1)\n",
        "        self.bn4 = nn.BatchNorm2d(12)\n",
        "        self.do4 = nn.Dropout2d(drop_out_val)\n",
        "\n",
        "        # CONVOLUTION LAYER 5\n",
        "        self.conv5  = nn.Conv2d(12, 24, 3, padding = 1)\n",
        "        self.bn5    = nn.BatchNorm2d(24)\n",
        "        self.do5    = nn.Dropout2d(drop_out_val)\n",
        "\n",
        "\n",
        "        # TRANSITION LAYER 2\n",
        "        self.pool2 = nn.MaxPool2d(2, 2)\n",
        "\n",
        "        self.conv_t2  = nn.Conv2d(24, 12, 1)\n",
        "        self.bn_t2    = nn.BatchNorm2d(12)\n",
        "        self.do_t2    = nn.Dropout2d(drop_out_val)\n",
        "\n",
        "        # CONVOLUTION LAYER 6\n",
        "        self.conv6 = nn.Conv2d(12, 12, 3, padding = 1)\n",
        "        self.bn6 = nn.BatchNorm2d(12)\n",
        "        self.do6 = nn.Dropout2d(drop_out_val)\n",
        "\n",
        "        # CONVOLUTION LAYER 7\n",
        "        self.conv7 = nn.Conv2d(12, 24, 3, padding = 1)\n",
        "\n",
        "        self.gap = nn.AvgPool2d(7)\n",
        "        self.linear1 = nn.Linear(24, 10)\n",
        "\n",
        "    def forward(self, x):\n",
        "        #BN after Relu\n",
        "        x = self.pool1(self.do3(self.bn3(F.relu(self.conv3 (self.do2(self.bn2(F.relu(self.conv2  (self.do1(self.bn1(F.relu(self.conv1(x)))))))))))))  \n",
        "        x = self.pool2(self.do5(self.bn5(F.relu(self.conv5(self.do4(self.bn4(self.conv4((self.do_t1(self.bn_t1(F.relu(self.conv_t1(x)))))))))))))\n",
        "        x = F.relu( self.conv7(self.do6(self.bn6(F.relu(self.conv6 (self.do_t2(self.bn_t2(F.relu(self.conv_t2(x))))))))))               \n",
        "        x = self.gap(x)\n",
        "        x = x.view(-1, 24)\n",
        "        x = self.linear1(x)\n",
        "\n",
        "        return F.log_softmax(x)       #log of softmax\n",
        "\n",
        "\n",
        "model = Net().to(device)\n",
        "summary(model, input_size=(1, 28, 28))"
      ]
    },
    {
      "cell_type": "code",
      "execution_count": 3,
      "metadata": {
        "colab": {
          "base_uri": "https://localhost:8080/"
        },
        "id": "Q8br8tJ8YmjR",
        "outputId": "79e016bd-df46-45fc-dd1c-aa10aa5e28bc"
      },
      "outputs": [
        {
          "name": "stdout",
          "output_type": "stream",
          "text": [
            "Downloading http://yann.lecun.com/exdb/mnist/train-images-idx3-ubyte.gz\n",
            "Downloading http://yann.lecun.com/exdb/mnist/train-images-idx3-ubyte.gz to ../data\\MNIST\\raw\\train-images-idx3-ubyte.gz\n"
          ]
        },
        {
          "name": "stderr",
          "output_type": "stream",
          "text": [
            "100%|██████████| 9912422/9912422 [00:04<00:00, 2365546.58it/s]\n"
          ]
        },
        {
          "name": "stdout",
          "output_type": "stream",
          "text": [
            "Extracting ../data\\MNIST\\raw\\train-images-idx3-ubyte.gz to ../data\\MNIST\\raw\n",
            "\n",
            "Downloading http://yann.lecun.com/exdb/mnist/train-labels-idx1-ubyte.gz\n",
            "Downloading http://yann.lecun.com/exdb/mnist/train-labels-idx1-ubyte.gz to ../data\\MNIST\\raw\\train-labels-idx1-ubyte.gz\n"
          ]
        },
        {
          "name": "stderr",
          "output_type": "stream",
          "text": [
            "100%|██████████| 28881/28881 [00:00<00:00, 3279166.61it/s]\n"
          ]
        },
        {
          "name": "stdout",
          "output_type": "stream",
          "text": [
            "Extracting ../data\\MNIST\\raw\\train-labels-idx1-ubyte.gz to ../data\\MNIST\\raw\n",
            "\n",
            "Downloading http://yann.lecun.com/exdb/mnist/t10k-images-idx3-ubyte.gz\n",
            "Downloading http://yann.lecun.com/exdb/mnist/t10k-images-idx3-ubyte.gz to ../data\\MNIST\\raw\\t10k-images-idx3-ubyte.gz\n"
          ]
        },
        {
          "name": "stderr",
          "output_type": "stream",
          "text": [
            "100%|██████████| 1648877/1648877 [00:01<00:00, 1011012.76it/s]\n"
          ]
        },
        {
          "name": "stdout",
          "output_type": "stream",
          "text": [
            "Extracting ../data\\MNIST\\raw\\t10k-images-idx3-ubyte.gz to ../data\\MNIST\\raw\n",
            "\n",
            "Downloading http://yann.lecun.com/exdb/mnist/t10k-labels-idx1-ubyte.gz\n",
            "Downloading http://yann.lecun.com/exdb/mnist/t10k-labels-idx1-ubyte.gz to ../data\\MNIST\\raw\\t10k-labels-idx1-ubyte.gz\n"
          ]
        },
        {
          "name": "stderr",
          "output_type": "stream",
          "text": [
            "100%|██████████| 4542/4542 [00:00<?, ?it/s]"
          ]
        },
        {
          "name": "stdout",
          "output_type": "stream",
          "text": [
            "Extracting ../data\\MNIST\\raw\\t10k-labels-idx1-ubyte.gz to ../data\\MNIST\\raw\n",
            "\n"
          ]
        },
        {
          "name": "stderr",
          "output_type": "stream",
          "text": [
            "\n"
          ]
        }
      ],
      "source": [
        "torch.manual_seed(1)\n",
        "batch_size = 128\n",
        "\n",
        "kwargs = {'num_workers': 1, 'pin_memory': True} if use_cuda else {}\n",
        "\n",
        "train_loader = torch.utils.data.DataLoader(\n",
        "    datasets.MNIST('../data', train=True, download=True,\n",
        "                    transform=transforms.Compose([\n",
        "                        transforms.ToTensor(),\n",
        "                        transforms.Normalize((0.1307,), (0.3081,))\n",
        "                    ])),\n",
        "    batch_size=batch_size, shuffle=True, **kwargs)\n",
        "\n",
        "test_loader = torch.utils.data.DataLoader(\n",
        "    datasets.MNIST('../data', train=False, transform=transforms.Compose([\n",
        "                        transforms.ToTensor(),\n",
        "                        transforms.Normalize((0.1307,), (0.3081,))\n",
        "                    ])),\n",
        "    batch_size=batch_size, shuffle=True, **kwargs)\n"
      ]
    },
    {
      "cell_type": "code",
      "execution_count": 4,
      "metadata": {
        "id": "OmLV4VqdYzSa"
      },
      "outputs": [],
      "source": [
        "from tqdm import tqdm\n",
        "def train(model, device, train_loader, optimizer, epoch):\n",
        "    model.train()\n",
        "    pbar = tqdm(train_loader)\n",
        "    for batch_idx, (data, target) in enumerate(pbar):\n",
        "        data, target = data.to(device), target.to(device)\n",
        "        optimizer.zero_grad()\n",
        "        output = model(data)\n",
        "        loss = F.nll_loss(output, target)\n",
        "        loss.backward()\n",
        "        optimizer.step()\n",
        "        pbar.set_description(desc= f'loss={loss.item()} batch_id={batch_idx}')\n",
        "\n",
        "\n",
        "def test(model, device, test_loader):\n",
        "    model.eval()\n",
        "    test_loss = 0\n",
        "    correct = 0\n",
        "    with torch.no_grad():\n",
        "        for data, target in test_loader:\n",
        "            data, target = data.to(device), target.to(device)\n",
        "            output = model(data)\n",
        "            test_loss += F.nll_loss(output, target, reduction='sum').item()  # sum up batch loss\n",
        "            pred = output.argmax(dim=1, keepdim=True)  # get the index of the max log-probability\n",
        "            correct += pred.eq(target.view_as(pred)).sum().item()\n",
        "\n",
        "    test_loss /= len(test_loader.dataset)\n",
        "\n",
        "    print('\\nTest set: Average loss: {:.4f}, Accuracy: {}/{} ({:.0f}%)\\n'.format(\n",
        "        test_loss, correct, len(test_loader.dataset),\n",
        "        100. * correct / len(test_loader.dataset)))"
      ]
    },
    {
      "cell_type": "code",
      "execution_count": 5,
      "metadata": {
        "colab": {
          "base_uri": "https://localhost:8080/"
        },
        "id": "zte9A7_CZDYN",
        "outputId": "dff97419-e1f6-4aa8-e56b-3fb22b12c2c2"
      },
      "outputs": [
        {
          "name": "stderr",
          "output_type": "stream",
          "text": [
            "  0%|          | 0/469 [00:00<?, ?it/s]<ipython-input-2-b411df3ebd3f>:69: UserWarning: Implicit dimension choice for log_softmax has been deprecated. Change the call to include dim=X as an argument.\n",
            "  return F.log_softmax(x)       #log of softmax\n",
            "loss=0.2618553042411804 batch_id=468: 100%|██████████| 469/469 [00:58<00:00,  8.08it/s] \n",
            "loss=0.3610001504421234 batch_id=0:   0%|          | 1/469 [00:00<01:04,  7.31it/s]"
          ]
        },
        {
          "name": "stdout",
          "output_type": "stream",
          "text": [
            "\n",
            "Test set: Average loss: 0.1467, Accuracy: 9575/10000 (96%)\n",
            "\n"
          ]
        },
        {
          "name": "stderr",
          "output_type": "stream",
          "text": [
            "loss=0.04441848397254944 batch_id=468: 100%|██████████| 469/469 [01:01<00:00,  7.58it/s] \n",
            "loss=0.18494072556495667 batch_id=0:   0%|          | 1/469 [00:00<01:06,  6.99it/s]"
          ]
        },
        {
          "name": "stdout",
          "output_type": "stream",
          "text": [
            "\n",
            "Test set: Average loss: 0.0731, Accuracy: 9781/10000 (98%)\n",
            "\n"
          ]
        },
        {
          "name": "stderr",
          "output_type": "stream",
          "text": [
            "loss=0.0946682021021843 batch_id=468: 100%|██████████| 469/469 [01:18<00:00,  5.94it/s]  \n",
            "loss=0.13285934925079346 batch_id=0:   0%|          | 1/469 [00:00<01:12,  6.48it/s]"
          ]
        },
        {
          "name": "stdout",
          "output_type": "stream",
          "text": [
            "\n",
            "Test set: Average loss: 0.0548, Accuracy: 9843/10000 (98%)\n",
            "\n"
          ]
        },
        {
          "name": "stderr",
          "output_type": "stream",
          "text": [
            "loss=0.0636448934674263 batch_id=468: 100%|██████████| 469/469 [01:14<00:00,  6.33it/s]  \n",
            "loss=0.14473743736743927 batch_id=0:   0%|          | 1/469 [00:00<01:11,  6.54it/s]"
          ]
        },
        {
          "name": "stdout",
          "output_type": "stream",
          "text": [
            "\n",
            "Test set: Average loss: 0.0489, Accuracy: 9850/10000 (98%)\n",
            "\n"
          ]
        },
        {
          "name": "stderr",
          "output_type": "stream",
          "text": [
            "loss=0.06668505072593689 batch_id=468: 100%|██████████| 469/469 [01:14<00:00,  6.31it/s] \n",
            "loss=0.07636087387800217 batch_id=0:   0%|          | 0/469 [00:00<?, ?it/s]"
          ]
        },
        {
          "name": "stdout",
          "output_type": "stream",
          "text": [
            "\n",
            "Test set: Average loss: 0.0396, Accuracy: 9883/10000 (99%)\n",
            "\n"
          ]
        },
        {
          "name": "stderr",
          "output_type": "stream",
          "text": [
            "loss=0.03660224750638008 batch_id=468: 100%|██████████| 469/469 [01:20<00:00,  5.85it/s] \n",
            "loss=0.055407218635082245 batch_id=0:   0%|          | 0/469 [00:00<?, ?it/s]"
          ]
        },
        {
          "name": "stdout",
          "output_type": "stream",
          "text": [
            "\n",
            "Test set: Average loss: 0.0356, Accuracy: 9886/10000 (99%)\n",
            "\n"
          ]
        },
        {
          "name": "stderr",
          "output_type": "stream",
          "text": [
            "loss=0.07522954791784286 batch_id=468: 100%|██████████| 469/469 [01:20<00:00,  5.81it/s] \n",
            "loss=0.05739770457148552 batch_id=0:   0%|          | 0/469 [00:00<?, ?it/s]"
          ]
        },
        {
          "name": "stdout",
          "output_type": "stream",
          "text": [
            "\n",
            "Test set: Average loss: 0.0388, Accuracy: 9882/10000 (99%)\n",
            "\n"
          ]
        },
        {
          "name": "stderr",
          "output_type": "stream",
          "text": [
            "loss=0.12349600344896317 batch_id=468: 100%|██████████| 469/469 [01:21<00:00,  5.74it/s] \n",
            "loss=0.06597888469696045 batch_id=0:   0%|          | 0/469 [00:00<?, ?it/s]"
          ]
        },
        {
          "name": "stdout",
          "output_type": "stream",
          "text": [
            "\n",
            "Test set: Average loss: 0.0351, Accuracy: 9889/10000 (99%)\n",
            "\n"
          ]
        },
        {
          "name": "stderr",
          "output_type": "stream",
          "text": [
            "loss=0.09651247411966324 batch_id=468: 100%|██████████| 469/469 [01:22<00:00,  5.71it/s] \n"
          ]
        },
        {
          "name": "stdout",
          "output_type": "stream",
          "text": [
            "\n",
            "Test set: Average loss: 0.0331, Accuracy: 9899/10000 (99%)\n",
            "\n"
          ]
        }
      ],
      "source": [
        "model = Net().to(device)\n",
        "optimizer = optim.SGD(model.parameters(), lr=0.01, momentum=0.9)\n",
        "\n",
        "for epoch in range(1, 10):\n",
        "    train(model, device, train_loader, optimizer, epoch)\n",
        "    test(model, device, test_loader)"
      ]
    }
  ],
  "metadata": {
    "accelerator": "GPU",
    "colab": {
      "gpuType": "T4",
      "name": "Welcome To Colaboratory",
      "provenance": []
    },
    "kernelspec": {
      "display_name": "Python 3",
      "name": "python3"
    },
    "language_info": {
      "codemirror_mode": {
        "name": "ipython",
        "version": 3
      },
      "file_extension": ".py",
      "mimetype": "text/x-python",
      "name": "python",
      "nbconvert_exporter": "python",
      "pygments_lexer": "ipython3",
      "version": "3.8.6"
    }
  },
  "nbformat": 4,
  "nbformat_minor": 0
}
